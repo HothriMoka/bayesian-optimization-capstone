{
 "cells": [
  {
   "cell_type": "markdown",
   "metadata": {},
   "source": [
    "# Bayesian Optimization for Function Maximization\n",
    "\n",
    "This notebook implements Bayesian Optimization using Gaussian Process Regression to find maximum values of 8 unknown functions with varying dimensions (2D to 8D).\n",
    "\n",
    "**Approach:**\n",
    "- Gaussian Process as surrogate model\n",
    "- Expected Improvement acquisition function\n",
    "- Sequential optimization for efficient search"
   ]
  },
  {
   "cell_type": "markdown",
   "metadata": {},
   "source": [
    "## 1. Setup and Data Loading"
   ]
  },
  {
   "cell_type": "code",
   "execution_count": null,
   "metadata": {},
   "outputs": [],
   "source": [
    "import numpy as np\n",
    "import matplotlib.pyplot as plt\n",
    "from sklearn.gaussian_process import GaussianProcessRegressor\n",
    "from sklearn.gaussian_process.kernels import Matern\n",
    "from sklearn.preprocessing import MinMaxScaler\n",
    "from scipy.stats import norm\n",
    "\n",
    "# Set random seed\n",
    "SEED = 42\n",
    "np.random.seed(SEED)"
   ]
  },
  {
   "cell_type": "code",
   "execution_count": null,
   "metadata": {},
   "outputs": [],
   "source": [
    "# Load initial data\n",
    "print(\"Loading initial data...\\n\")\n",
    "\n",
    "for i in range(1, 9):\n",
    "    X = np.load(f\"initial_data/function_{i}/initial_inputs.npy\")\n",
    "    y = np.load(f\"initial_data/function_{i}/initial_outputs.npy\")\n",
    "    print(f\"Function {i}: {X.shape[1]}D, {X.shape[0]} samples, range [{y.min():.3f}, {y.max():.3f}]\")"
   ]
  },
  {
   "cell_type": "markdown",
   "metadata": {},
   "source": [
    "## 2. Bayesian Optimizer"
   ]
  },
  {
   "cell_type": "code",
   "execution_count": null,
   "metadata": {},
   "outputs": [],
   "source": [
    "class BayesianOptimizer:\n",
    "    def __init__(self, function_id, seed=42):\n",
    "        self.function_id = function_id\n",
    "        self.seed = seed\n",
    "        \n",
    "        # Load data\n",
    "        self.X_train = np.load(f\"initial_data/function_{function_id}/initial_inputs.npy\")\n",
    "        self.y_train = np.load(f\"initial_data/function_{function_id}/initial_outputs.npy\")\n",
    "        \n",
    "        # Normalize inputs\n",
    "        self.scaler = MinMaxScaler()\n",
    "        self.X_scaled = self.scaler.fit_transform(self.X_train)\n",
    "        \n",
    "        # Standardize outputs\n",
    "        self.y_mean = np.mean(self.y_train)\n",
    "        self.y_std = np.std(self.y_train) + 1e-8\n",
    "        self.y_scaled = (self.y_train - self.y_mean) / self.y_std\n",
    "        \n",
    "        # Fit Gaussian Process\n",
    "        kernel = Matern(length_scale=1.0, nu=2.5)\n",
    "        self.gp = GaussianProcessRegressor(kernel=kernel, alpha=1e-6, \n",
    "                                           n_restarts_optimizer=10, random_state=seed)\n",
    "        self.gp.fit(self.X_scaled, self.y_scaled)\n",
    "    \n",
    "    def expected_improvement(self, X, xi=0.01):\n",
    "        X_scaled = self.scaler.transform(X)\n",
    "        mu, sigma = self.gp.predict(X_scaled, return_std=True)\n",
    "        mu_best = np.max(self.y_scaled)\n",
    "        \n",
    "        with np.errstate(divide='warn'):\n",
    "            imp = mu - mu_best - xi\n",
    "            Z = imp / sigma\n",
    "            ei = imp * norm.cdf(Z) + sigma * norm.pdf(Z)\n",
    "            ei[sigma == 0.0] = 0.0\n",
    "        return ei\n",
    "    \n",
    "    def suggest_next_point(self, n_candidates=10000):\n",
    "        np.random.seed(self.seed)\n",
    "        n_dims = self.X_train.shape[1]\n",
    "        candidates = np.random.uniform(0, 1, (n_candidates, n_dims))\n",
    "        ei_values = self.expected_improvement(candidates)\n",
    "        return candidates[np.argmax(ei_values)]\n",
    "    \n",
    "    def predict(self, point):\n",
    "        point = np.atleast_2d(point)\n",
    "        point_scaled = self.scaler.transform(point)\n",
    "        mu_scaled, sigma_scaled = self.gp.predict(point_scaled, return_std=True)\n",
    "        mu = mu_scaled[0] * self.y_std + self.y_mean\n",
    "        sigma = sigma_scaled[0] * self.y_std\n",
    "        return mu, sigma\n",
    "    \n",
    "    def format_query(self, point):\n",
    "        return \"-\".join([f\"{x:.6f}\" for x in point])"
   ]
  },
  {
   "cell_type": "markdown",
   "metadata": {},
   "source": [
    "## 3. Run Optimization"
   ]
  },
  {
   "cell_type": "code",
   "execution_count": null,
   "metadata": {},
   "outputs": [],
   "source": [
    "# Optimize all functions\n",
    "results = {}\n",
    "\n",
    "print(\"Running Bayesian Optimization...\\n\")\n",
    "\n",
    "for func_id in range(1, 9):\n",
    "    opt = BayesianOptimizer(func_id, seed=SEED)\n",
    "    next_point = opt.suggest_next_point()\n",
    "    mean, std = opt.predict(next_point)\n",
    "    query = opt.format_query(next_point)\n",
    "    \n",
    "    results[func_id] = query\n",
    "    \n",
    "    print(f\"Function {func_id} ({opt.X_train.shape[1]}D):\")\n",
    "    print(f\"  Query: {query}\")\n",
    "    print(f\"  Predicted: {mean:.6f} \u00b1 {std:.6f}\")\n",
    "    print(f\"  Current best: {opt.y_train.max():.6f}\\n\")"
   ]
  },
  {
   "cell_type": "markdown",
   "metadata": {},
   "source": [
    "## 4. Submission Queries"
   ]
  },
  {
   "cell_type": "code",
   "execution_count": null,
   "metadata": {},
   "outputs": [],
   "source": [
    "print(\"Formatted queries for submission:\\n\")\n",
    "for func_id in range(1, 9):\n",
    "    print(f\"Function {func_id}: {results[func_id]}\")"
   ]
  }
 ],
 "metadata": {
  "kernelspec": {
   "display_name": "Python 3",
   "language": "python",
   "name": "python3"
  },
  "language_info": {
   "codemirror_mode": {
    "name": "ipython",
    "version": 3
   },
   "file_extension": ".py",
   "mimetype": "text/x-python",
   "name": "python",
   "nbconvert_exporter": "python",
   "pygments_lexer": "ipython3",
   "version": "3.8.0"
  }
 },
 "nbformat": 4,
 "nbformat_minor": 4
}